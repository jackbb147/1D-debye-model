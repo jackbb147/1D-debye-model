{
  "nbformat": 4,
  "nbformat_minor": 0,
  "metadata": {
    "anaconda-cloud": {},
    "colab": {
      "name": "1D_Debeye_problem.ipynb",
      "provenance": [],
      "collapsed_sections": []
    },
    "kernelspec": {
      "display_name": "Python 3",
      "language": "python",
      "name": "python3"
    },
    "language_info": {
      "codemirror_mode": {
        "name": "ipython",
        "version": 3
      },
      "file_extension": ".py",
      "mimetype": "text/x-python",
      "name": "python",
      "nbconvert_exporter": "python",
      "pygments_lexer": "ipython3",
      "version": "3.8.8"
    }
  },
  "cells": [
    {
      "cell_type": "markdown",
      "metadata": {
        "id": "hzxqFP8FxqOu"
      },
      "source": [
        "### Physics 112: Spring 2021: Section 1: Professor Holzapfel \n",
        "### HW7 computational problem 1\n",
        "### One Dimensional Debeye Model\n",
        "Copyright 2021 by the Regents of the University of California. All rights reserved."
      ]
    },
    {
      "cell_type": "code",
      "metadata": {
        "id": "mAD5MU4w10ta"
      },
      "source": [
        "import numpy as np\n",
        "import scipy.stats as st\n",
        "import matplotlib.pyplot as plt\n",
        "from mpl_toolkits.mplot3d import Axes3D\n",
        "import math\n",
        "from scipy.optimize import curve_fit\n",
        "import scipy.integrate as integrate\n",
        "\n"
      ],
      "execution_count": 22,
      "outputs": []
    },
    {
      "cell_type": "markdown",
      "metadata": {
        "id": "yZpJAKB1xqOv"
      },
      "source": [
        "In this exercise, we are going to explore the Debeye model in one dimension. In particular, we will calculate the internal energy $U(\\tau)$ and the Heat Capacity $C_V(\\tau)=\\frac{dU}{d\\tau}$ as a function of temperature. We will also explore the range of applicability of the assumptions that the the sum over states can be treated as an integral and that low frequency modes involving many particles produce the observed heat capacity at low temperatures missing in the Einstein model.\n",
        "\n",
        "We assume that the $N$ atoms in our system are arranged in a line of length $L$, with spacing between atoms of $a$. Waves travel in the line of atoms at a speed $c_s$. The system is in thermal equilibrium with a reservoir of temperature $\\tau$. As it is a 1D system, there is only one longitudinal polarization.\n",
        "\n",
        "The energy of this system is the phonon energy times the phonon occupation number summed over N total modes for the system $$U(\\tau) = \\sum_{n=1}^N \\frac{\\hbar \\omega_n}{\\exp\\left(\\frac{\\hbar \\omega_n}{\\tau}\\right) -1}$$\n",
        "where $\\hbar \\omega_n=\\frac{n\\pi \\hbar c_s}{L} = \\frac{n\\tau_D}{N}$ and $\\tau_D = \\frac{\\hbar c_s \\pi}{a}$.\n",
        "\n",
        "In the limit where the phonon energy quanta are small compared to the thermal energy, $\\hbar \\omega < \\tau$, we can express this sum as an integral\n",
        "$$U(\\tau) = \\int_0^{\\omega_D} \\frac{L}{\\pi c_s}\\frac{\\hbar \\omega_n}{\\exp\\left(\\frac{\\hbar \\omega_n}{\\tau}\\right) -1} d\\omega$$\n",
        "where $\\omega_D = \\frac{\\pi c_s}{a}$. \n",
        "In Lecture, we calculated an approximate result for the (three dimensional) heat capacity valid for low temperatures. We did this by taking $\\omega_D = \\infty$, performing the definite integral and then differentiating the result with respect to $\\tau$. This is fine for the low temperature limit of the heat capacity, but will not yield valid results over the whole temperature range. To do this correctly, we need to differentiate the expression for $U(\\tau)$ before summing or integrating over modes.\n",
        "\n",
        "Doing this, we can express the heat capacity as a sum over modes\n",
        "$$C_v = \\frac{dU}{d\\tau} = \\sum_{n=1}^N \\left(\\frac{n\\tau_D}{N\\tau}\\right)^2 \\frac{\\exp\\left(\\frac{n\\tau_D}{N\\tau}\\right)}{\\left[\\exp\\left(\\frac{n\\tau_D}{N\\tau}\\right) -1\\right]^2},$$ or as an approximate integral\n",
        "$$C_v = N \\left(\\frac{\\tau}{\\tau_D}\\right) \\int_0^{\\frac{\\tau}{\\tau_D}} \\frac{x^2 e^x}{(e^x-1)^2} dx.$$\n",
        "Although it will not be part of your homework submission, you should work through this problem to make sure that you can reproduce these results. Although we are specifically working with a 1D system in this problem, the calculation for the heat capacity for the 3D Debeye model proceeds similarly."
      ]
    },
    {
      "cell_type": "markdown",
      "metadata": {
        "id": "deyo0RIoxqOw"
      },
      "source": [
        "a) Numerically integrate the integral expressions for the energy and heat capacity to find $U(\\tau)$ and $C_v(\\tau)$. Plot $\\frac{U(\\tau)}{N\\tau}$ and $\\frac{C_v(\\tau)}{N}$ as a function of temperature over the range  $0.01 < \\frac{\\tau}{\\tau_D} < 10$ in steps of $0.01$. Do the maximum values of these functions agree with your expectations from equipartition? "
      ]
    },
    {
      "cell_type": "code",
      "metadata": {
        "colab": {
          "base_uri": "https://localhost:8080/",
          "height": 265
        },
        "id": "WYPlgOC_xqOx",
        "outputId": "31b85beb-4dd1-413c-853d-8957bb19ce87"
      },
      "source": [
        "#a) Solution here\n",
        "def C_V(tau, tau_D, N):\n",
        "  # this is the continuous approximation.\n",
        "  f = lambda x: np.power(x,2) * np.exp(x) / np.power(np.exp(x)-1,2)\n",
        "  answer = N * (tau/tau_D) * integrate.quad(lambda x: f(x), 0, tau_D/tau)[0]\n",
        "  return answer\n",
        "\n",
        "def C_V_DISCRETE(tau, tau_D, N):\n",
        "  # this is the discrete, exact sum. \n",
        "  # More accurate than the continuous approximation as defined previously. \n",
        "  # a = [1,2,3,4,5]\n",
        "  # print(np.sum(a))\n",
        "  # return np.sum(a) \n",
        "  X = lambda n: (n * tau_D) / (N * tau) #helper function\n",
        "  def f(n):\n",
        "    X_n = X(n)\n",
        "    expXn = np.exp(X_n)\n",
        "    return np.power(X_n,2) * expXn / np.power(expXn-1,2)\n",
        "\n",
        "  rg = np.arange(1,N+1) # range. Note that the last element(N+1)is NOT included. \n",
        "  return np.sum([f(n)for n in rg])\n",
        "\n",
        "def U(tau, tau_D, N):\n",
        "  f = lambda x: x / (np.exp(x)-1)\n",
        "  answer = N * tau * (tau/tau_D) * integrate.quad(lambda x: f(x), 0, tau_D/tau)[0]\n",
        "  return answer\n",
        "\n",
        "\n",
        "class debye_system_1D():\n",
        "  def __init__(self, a=1/np.power(10,34), v=10/np.power(10,34), N=50000, tau_over_tau_D=1, Cv = C_V, u = U):\n",
        "    self.a = a\n",
        "    self.v = v\n",
        "    self.N = N\n",
        "    self.hbar = 6.62607004 * pow(10, -34) / (2 * math.pi)\n",
        "    self.tau_D = math.pi * self.hbar * self.v / self.a\n",
        "    self.tau = self.tau_D * tau_over_tau_D\n",
        "    self.L = self.N * self.a\n",
        "    self.C_V = Cv(self.tau, self.tau_D, self.N)\n",
        "    self.U = u(self.tau, self.tau_D, self.N)\n",
        "    self.normalized_C = self.C_V / self.N\n",
        "    self.normalized_U = self.U / (self.N * self.tau)\n",
        "\n",
        "def part_a():\n",
        "  stepSize = 0.01\n",
        "  x = np.linspace(0.01, 10, int((10-0.01)/stepSize))  #tau/tauD\n",
        "  systems = [debye_system_1D(tau_over_tau_D=item) for item in x]\n",
        "  energies,heatCaps = [system.normalized_U for system in systems],[system.normalized_C for system in systems]\n",
        "  \n",
        "  plt.plot(x, energies, label = 'energy')\n",
        "  plt.plot(x, heatCaps, label='heat capacity')\n",
        "  plt.legend(loc=\"lower right\")\n",
        "  return {\n",
        "      'x': x,\n",
        "      'energies': energies,\n",
        "      'heatCaps': heatCaps,\n",
        "      'systems': systems,\n",
        "      'systemClass': debye_system_1D\n",
        "  }\n",
        "\n",
        "\n",
        "part_a_data = part_a()\n",
        "\n",
        "\n",
        "# ===============================\n",
        "#   at high enough temperatures, both energy and heat capacities \n",
        "#  approaches a maximum value of 1. The value 1 equals 1/2 + 1/2, which\n",
        "#   corresponds to a contribution of 1/2 from both the position and momentum\n",
        "#   according to equipartition theorem, since both of these coordinates \n",
        "#  is of degree 2 in the hamiltonian. \n",
        "# \n",
        "# ===============================\n",
        "\n"
      ],
      "execution_count": 23,
      "outputs": [
        {
          "output_type": "display_data",
          "data": {
            "image/png": "[encoded data removed]",
            "text/plain": [
              "<Figure size 432x288 with 1 Axes>"
            ]
          },
          "metadata": {
            "tags": [],
            "needs_background": "light"
          }
        }
      ]
    },
    {
      "cell_type": "markdown",
      "metadata": {
        "id": "Gbu-POUVxqOx"
      },
      "source": [
        "b) To get a better look at the low temperature values, reproduce your plot from part a) on a log-log scale.  At approximately what values of $\\frac{\\tau}{\\tau_D}$ do $\\frac{U(\\tau)}{N\\tau}$ and $\\frac{C_V(\\tau)}{N}$ reach 50% and 90% of their maximum values? "
      ]
    },
    {
      "cell_type": "code",
      "metadata": {
        "colab": {
          "base_uri": "https://localhost:8080/",
          "height": 269
        },
        "id": "r8fcAmhSxqOy",
        "outputId": "dd8ce533-b524-4d9e-d652-bf9d8abc3f8c"
      },
      "source": [
        "#b) Solution here\n",
        "def part_b():\n",
        "  x = part_a_data['x']\n",
        "  y_U = part_a_data['energies']\n",
        "  y_C = part_a_data['heatCaps']\n",
        "\n",
        "  plt.loglog(x, y_U, label='energy')\n",
        "  plt.loglog(x, y_C, label = 'heat capacity')\n",
        "  plt.grid(True, which=\"both\", ls=\"-\")\n",
        "  plt.legend(loc=\"lower right\")\n",
        "part_b()\n",
        "\n",
        "# the values at which U/Ntau and C/N reach 50% and 90% \n",
        "# seen from the figure. \n"
      ],
      "execution_count": 24,
      "outputs": [
        {
          "output_type": "display_data",
          "data": {
            "image/png": "[encoded data removed]",
            "text/plain": [
              "<Figure size 432x288 with 1 Axes>"
            ]
          },
          "metadata": {
            "tags": [],
            "needs_background": "light"
          }
        }
      ]
    },
    {
      "cell_type": "markdown",
      "metadata": {
        "id": "8m2cUTG_xqO4"
      },
      "source": [
        "c) In the 3D Debeye model, the heat capacity at low temperature scales as $\\tau^3$. Fit to the functions for $U(\\tau)$ and $C_v(\\tau)$ over the low temperature region $0.01 > \\frac{\\tau}{\\tau_D} < 0.1$ to power laws $U \\propto \\tau^{\\alpha}$ and $C_v \\propto \\tau^\\beta$ to determine $\\alpha$ and $\\beta$ for the low temperature scaling of the 1D energy and heat capacity with temperature. How do these results compare with your expectations based on the 3D results? Recreate your plot from part b) with these best fit power laws for $C_v/N$ and $U/N\\tau$ overplotted."
      ]
    },
    {
      "cell_type": "code",
      "metadata": {
        "colab": {
          "base_uri": "https://localhost:8080/",
          "height": 404
        },
        "id": "oiGOMjMRxqO6",
        "outputId": "7a414786-2f9f-4f3c-d989-1a13a97bb3ef"
      },
      "source": [
        "#c) Solution here\n",
        "def part_c():\n",
        "  def f(x, a, b):\n",
        "    return a * np.power(x, b)\n",
        "  systems = part_a_data['systems'][:10]\n",
        "  x = part_a_data['x'][:10]\n",
        "  y_U = [system.U for system in systems]  #unnormalized energies\n",
        "  y_C = [system.C_V for system in systems]  #unnormalized heat capacities\n",
        "\n",
        "  normal_y_U = [system.normalized_U for system in systems]\n",
        "  normal_y_C = [system.normalized_C for system in systems] \n",
        "\n",
        "  fitting_params = {\n",
        "      \"U\": curve_fit(f, x, y_U, p0=(0,2))[0],\n",
        "      \"C\": curve_fit(f, x, y_C, p0=(1,1))[0]\n",
        "  }\n",
        "  \n",
        "  def generate_best_fit_data():\n",
        "    U = [f(item, *fitting_params[\"U\"]) for item in x]\n",
        "    C = [f(item, *fitting_params[\"C\"]) for item in x]\n",
        "    normal_U = [u/(systems[U.index(u)].N * systems[U.index(u)].tau)for u in U]\n",
        "    normal_C = [c/(systems[C.index(c)].N)for c in C]\n",
        "\n",
        "    return {\n",
        "        'U':U,\n",
        "        'C':C,\n",
        "        \"normal_U\": normal_U,\n",
        "        \"normal_C\": normal_C\n",
        "    }\n",
        "  \n",
        "  best_fit_curves = generate_best_fit_data()\n",
        "\n",
        "  #-------report fitting result --------\n",
        "  print(\"FITTING RESULT AT LOW TEMPERATURES:\")\n",
        "  print(\n",
        "      f' U goes like tau ^ {fitting_params[\"U\"][1]}'\n",
        "  )\n",
        "  print(\n",
        "      f'C goes like tau ^ {fitting_params[\"C\"][1]}'\n",
        "  )\n",
        "\n",
        "  #----plotting fitted curves and original curves ------\n",
        "  plt.subplot(2, 2, 1)\n",
        "  plt.plot(x, y_U, 'o', label='data')    #unnormalized U\n",
        "  plt.plot(x, best_fit_curves['U'],label='fit')\n",
        "  plt.legend(loc=\"lower right\")\n",
        "  plt.title('unnormalized U', loc='right')\n",
        "\n",
        "  plt.subplot(2, 2, 2)\n",
        "  plt.plot(x, y_C, 'o', label='data')    #unnormalized C\n",
        "  plt.plot(x, best_fit_curves['C'],label='fit')\n",
        "  plt.legend(loc=\"lower right\")\n",
        "  plt.title('unnormalized C',loc='right')\n",
        "\n",
        "  plt.subplot(2, 2, 3)\n",
        "  plt.plot(x, normal_y_U, 'o',label='data') #normalized U\n",
        "  plt.plot(x, best_fit_curves['normal_U'],label='fit')\n",
        "  plt.legend(loc=\"lower right\")\n",
        "  plt.title('normalized U',loc='right')\n",
        "\n",
        "  plt.subplot(2, 2, 4)\n",
        "  plt.plot(x, normal_y_C, 'o',label='data') #normalized C\n",
        "  plt.plot(x, best_fit_curves['normal_C'],label='fit')\n",
        "  plt.legend(loc=\"lower right\")\n",
        "  plt.title('normalized C',loc='right')\n",
        "  plt.tight_layout()\n",
        "\n",
        "\n",
        "part_c()\n",
        "\n",
        "\n",
        "# ===============================\n",
        "#  at low temperatures heat capacity scales like tau to the 1st power. \n",
        "#  this is expected because this is a 1-dimensional system; \n",
        "# if it was 3D then the heat capacity would scale like tau to the 3rd power.\n",
        "# "
      ],
      "execution_count": 25,
      "outputs": [
        {
          "output_type": "stream",
          "text": [
            "/usr/local/lib/python3.7/dist-packages/scipy/optimize/minpack.py:808: OptimizeWarning: Covariance of the parameters could not be estimated\n",
            "  category=OptimizeWarning)\n"
          ],
          "name": "stderr"
        },
        {
          "output_type": "stream",
          "text": [
            "FITTING RESULT AT LOW TEMPERATURES:\n",
            " U goes like tau ^ 2.0\n",
            "C goes like tau ^ 0.9986026566986296\n"
          ],
          "name": "stdout"
        },
        {
          "output_type": "display_data",
          "data": {
            "image/png": "[encoded data removed]",
            "text/plain": [
              "<Figure size 432x288 with 4 Axes>"
            ]
          },
          "metadata": {
            "tags": [],
            "needs_background": "light"
          }
        }
      ]
    },
    {
      "cell_type": "code",
      "metadata": {
        "id": "lMMj1rPSxqO8"
      },
      "source": [
        "#d) Solution here\n",
        "def part_d_computation(N):\n",
        "  # returns two lists of systems, \n",
        "  # one has heat capacity computed as the discrete sum \n",
        "  # and the other is the continuous approximation\n",
        "  Cv = C_V_DISCRETE\n",
        "  system = part_a_data['systemClass']\n",
        "  \n",
        "  stepSize = .01\n",
        "  x = np.linspace(0.01, 10, int((10-0.01)/stepSize))  #tau/tauD\n",
        "  systems = [system(tau_over_tau_D=item, Cv=Cv, N=N) for item in x]\n",
        "  systems_approx = [system(tau_over_tau_D=item, N=N) for item in x]\n",
        "  return {\n",
        "      'systems': systems,\n",
        "      'systems_approximated': systems_approx,\n",
        "      'x': x\n",
        "  }"
      ],
      "execution_count": 26,
      "outputs": []
    },
    {
      "cell_type": "code",
      "metadata": {
        "id": "vKx6cs-ZbLpX"
      },
      "source": [
        "part_d_data = {\n",
        "    'N=1000':part_d_computation(1000),\n",
        "    'N=10': part_d_computation(10)\n",
        "}\n",
        "\n",
        "# runtime ~ 30s"
      ],
      "execution_count": 27,
      "outputs": []
    },
    {
      "cell_type": "markdown",
      "metadata": {
        "id": "pI3dPOYwxqO7"
      },
      "source": [
        "d) Now return to the expression you wrote for heat capacity $\\frac{C_V}{N}$ in terms of a sum over modes. Instead of treating the sum as an integral, evaluate the sum exactly. In turning the sum into an integral we assumed that there are many modes with phonon energy less than the thermal energy. This will break down in the limit of small N and low temperature and this exact sum will be more accurate.  For N=1000, plot the value of $\\frac{C_V}{N}$ from the sum as a function of temperature over the range $0.01 < \\frac{\\tau}{\\tau_D} < 10$ in steps of $\\sim 0.01$. Plot your result on a log-log scale. Compare your result with the integral approximation by plotting overplotting the integral result for $\\frac{C_V}{N}$ on top of your result for the sum with $N=1000$. What does your plot tell you about the accuracy of the continuum appoximation for $N=1000$ particles over this temperature range? Repeat this plot for $N=10$ and comment on the differences."
      ]
    },
    {
      "cell_type": "code",
      "metadata": {
        "colab": {
          "base_uri": "https://localhost:8080/",
          "height": 297
        },
        "id": "e5LITUYmPwJd",
        "outputId": "7b710a1e-9a4c-4028-ef73-bfa87ad8d0f6"
      },
      "source": [
        "def part_d():\n",
        "  # plt.loglog(x, heatCaps)\n",
        "  # plt.loglog(x, heatCaps_approx,'o')\n",
        "\n",
        "  # heatCaps = [system.normalized_C for system in systems]\n",
        "  # heatCaps_approx = [system.normalized_C for system in systems_approx]\n",
        "  L1, L2 = part_d_data['N=1000'], part_d_data['N=10']\n",
        "  N1, N2 = L1['systems'][0].N, L2['systems'][0].N\n",
        "\n",
        "\n",
        "  # -----------plotting N = 1000 -----------\n",
        "  plt.subplot(1, 2, 1)\n",
        "  plt.loglog(\n",
        "      L1['x'],\n",
        "      [system.normalized_C for system in L1['systems']],\n",
        "      label='discrete'\n",
        "  )\n",
        "  plt.loglog(\n",
        "      L1['x'],\n",
        "      [system.normalized_C for system in L1['systems_approximated']],\n",
        "      'x',\n",
        "      label='continuous'\n",
        "  )\n",
        "  plt.legend(loc=\"lower right\")\n",
        "  plt.title(f'N={N1}',loc='right')\n",
        "\n",
        "  # -----------plotting N = 10-----------\n",
        "  plt.subplot(1, 2, 2)\n",
        "  plt.loglog(\n",
        "      L2['x'],\n",
        "      [system.normalized_C for system in L2['systems']],\n",
        "      label='discrete'\n",
        "  )\n",
        "  plt.loglog(\n",
        "      L2['x'],\n",
        "      [system.normalized_C for system in L2['systems_approximated']],\n",
        "      'x',\n",
        "      label='continuous'\n",
        "  )\n",
        "  plt.legend(loc=\"lower right\")\n",
        "  plt.title(f'N={N2}',loc='right')\n",
        "  plt.tight_layout()\n",
        "\n",
        "\n",
        "\n",
        "part_d()\n",
        "\n",
        "\n",
        "# ===============================\n",
        "# for N = 1000 the continuum approximation is pretty good. \n",
        "#  It hugs the discrete sum pretty closely all the way \n",
        "# down to tau/tauD = 0.01. \n",
        "#  For N = 10, the continuum approximation breaks down at \n",
        "#  somewhere between 10^-1 and 10^0. \n",
        "#  \n"
      ],
      "execution_count": 28,
      "outputs": [
        {
          "output_type": "display_data",
          "data": {
            "image/png": "[encoded data removed]",
            "text/plain": [
              "<Figure size 432x288 with 2 Axes>"
            ]
          },
          "metadata": {
            "tags": [],
            "needs_background": "light"
          }
        }
      ]
    },
    {
      "cell_type": "code",
      "metadata": {
        "id": "duEhZG5qxqO8"
      },
      "source": [
        "#e) Solution here\n",
        "# systems = [system(tau_over_tau_D=item, Cv=Cv, N=N) for item in x]\n",
        "\n",
        "def part_e_computation(N):\n",
        "  Cv = C_V_DISCRETE\n",
        "  system = part_a_data['systemClass']\n",
        "  \n",
        "  def ratio(tau_over_tau_D, N):\n",
        "    s = system(tau_over_tau_D = tau_over_tau_D, Cv=Cv, N=N)\n",
        "    s_ref = system(tau_over_tau_D = tau_over_tau_D, Cv=Cv, N=1000)\n",
        "    return s.normalized_C / s_ref.normalized_C\n",
        "  \n",
        "  stepSize = .01\n",
        "  x = np.linspace(0.01, 10, int((10-0.01)/stepSize))  #tau/tauD\n",
        "  y = [ratio(item, N) for item in x]\n",
        "  \n",
        "  return {\n",
        "      'x':x,\n",
        "      'y': y\n",
        "  }\n"
      ],
      "execution_count": 29,
      "outputs": []
    },
    {
      "cell_type": "code",
      "metadata": {
        "id": "cCFmrv8wnh2q"
      },
      "source": [
        "# N_list = [1,3,10,1000]\n",
        "part_e_data = {\n",
        "    \"N=1\":part_e_computation(1),\n",
        "    \"N=3\":part_e_computation(3),\n",
        "    \"N=10\":part_e_computation(10),\n",
        "    \"N=1000\":part_e_computation(1000)\n",
        "}\n",
        "# runtime ~ 80s"
      ],
      "execution_count": 30,
      "outputs": []
    },
    {
      "cell_type": "markdown",
      "metadata": {
        "id": "eazG5-FpxqO8"
      },
      "source": [
        "e) Find the ratio of $\\frac{C_V(N)}{N}$ (for $N=1,3,10,100$) to $\\frac{C_V(N)}{N}$ (for $N=1000$) as a function of $\\tau$. In this case, we are using the result for $N=1000$ as a reference where N is large enough that the particle number should not matter. Plot the heat capacity ratio as function of temperature for each of the values N=1,3,10,100.  Overplot the results on a log-log plot as a function of temperature over the range $0.01 < \\frac{\\tau}{\\tau_D} < 10$ in steps of $\\sim 0.01$. Where do these ratios differ significantly from 1? "
      ]
    },
    {
      "cell_type": "code",
      "metadata": {
        "colab": {
          "base_uri": "https://localhost:8080/",
          "height": 269
        },
        "id": "7Knu03kJoHx2",
        "outputId": "d984651f-846b-4471-9c21-9c618a2a16c9"
      },
      "source": [
        "def part_e():\n",
        "  x = part_e_data['N=1']['x'] # the four N's all use the same x\n",
        "  plt.loglog(x,  part_e_data['N=1000']['y'],label='N=1000')\n",
        "  plt.loglog(x,  part_e_data['N=10']['y'],label='N=10')\n",
        "  plt.loglog(x,  part_e_data['N=3']['y'],label='N=3')\n",
        "  plt.loglog(x,  part_e_data['N=1']['y'],label='N=1')\n",
        "  plt.legend(loc=\"lower right\")\n",
        "part_e()\n",
        "\n",
        "# ===============================\n",
        "#  The N=1 plot breaks really badly since at low temperatures, \n",
        "#  the ratio is really small, almost 0. \n",
        "#  The N=10 and N=3 plots starts breaking when the x axis is ~ 0.1"
      ],
      "execution_count": 34,
      "outputs": [
        {
          "output_type": "display_data",
          "data": {
            "image/png": "[encoded data removed]",
            "text/plain": [
              "<Figure size 432x288 with 1 Axes>"
            ]
          },
          "metadata": {
            "tags": [],
            "needs_background": "light"
          }
        }
      ]
    },
    {
      "cell_type": "markdown",
      "metadata": {
        "id": "sCjmh7mXxqO9"
      },
      "source": [
        "f) Finally, we want to look in detail at the summation solution in low temperature regime where we fix $\\frac{\\tau}{\\tau_D} = 0.1$. Calculate the ratio of the heat capacity per particle for N particles $\\frac{C_V(N)}{N}$ over $\\frac{C_V(N)}{N}$ (for $N=1000$). In this case, we are choosing the result for $N=1000$  as a reference where the particle number is large enough to have no effect. Plot the ratio of the heat capacity as a function of N on a log-log plot over the range $N =1$ to $100$. Why does heat capacity depend on the number of particles in the system? Why is heat capacity in the low temperature regime particularly sensitive to N? Explain your results in terms of our original motivation for the Debeye model over the Einstein solid model."
      ]
    },
    {
      "cell_type": "code",
      "metadata": {
        "id": "zgRZshqdtnI2"
      },
      "source": [
        "\n",
        "def part_f_computation():\n",
        "  system = part_a_data['systemClass']\n",
        "  tau_over_tau_D = 0.1\n",
        "  s_ref = system(tau_over_tau_D = tau_over_tau_D, Cv=C_V_DISCRETE, N=1000)\n",
        "  def ratio(tau_over_tau_D, N, s_ref):\n",
        "    s = system(tau_over_tau_D = tau_over_tau_D, Cv=C_V_DISCRETE, N=N)\n",
        "    return s.normalized_C / s_ref.normalized_C\n",
        "  rang = range(1,100)\n",
        "  y = [ratio(tau_over_tau_D,N,s_ref) for N in rang]\n",
        "  return {\n",
        "      'x': rang,\n",
        "      'y': y\n",
        "  }\n",
        "\n",
        "part_f_data = part_f_computation()"
      ],
      "execution_count": 32,
      "outputs": []
    },
    {
      "cell_type": "code",
      "metadata": {
        "id": "IIabAIhJxqO-",
        "colab": {
          "base_uri": "https://localhost:8080/",
          "height": 283
        },
        "outputId": "65ac4b73-9a4c-4c00-a2da-e379ed8cc1f9"
      },
      "source": [
        "#f) Solution here\n",
        "def part_f():\n",
        "  x,y = part_f_data['x'], part_f_data['y']\n",
        "  plt.loglog(x, y)\n",
        "  plt.xlabel('N')\n",
        "  plt.ylabel('C(N)/C(1000)')\n",
        "part_f()\n",
        "\n",
        "# ===============================\n",
        "# Heat capacity relates the amount of heat input to the \n",
        "# amount of energy change of the system. How much energy\n",
        "#  the system has depends on the amount of particles. \n",
        "#  Therefore it's no surprise that heat capacity has \n",
        "#  to also depend on the number of particles. \n",
        "# The Einstein model of solid treats a crystaline solid \n",
        "#  as decoupled(indepedent) oscillators, while the \n",
        "#  Debye model treats it as coupled oscillators and \n",
        "#  analyzes the system as a superposition of \n",
        "#  normal modes. The Einstein model, at low temperatures,\n",
        "#  predicts an exponential decay of heat capacity, which \n",
        "#  is in disagreement with experiment. The debye model\n",
        "#  correctly predicts the T^3 behavior of heat capacity\n",
        "#  at low temperature. \n"
      ],
      "execution_count": 33,
      "outputs": [
        {
          "output_type": "display_data",
          "data": {
            "image/png": "[encoded data removed]",
            "text/plain": [
              "<Figure size 432x288 with 1 Axes>"
            ]
          },
          "metadata": {
            "tags": [],
            "needs_background": "light"
          }
        }
      ]
    }
  ]
}